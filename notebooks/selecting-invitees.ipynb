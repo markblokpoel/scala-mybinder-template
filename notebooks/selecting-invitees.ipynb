{
 "cells": [
  {
   "cell_type": "markdown",
   "metadata": {},
   "source": [
    "# Formalizing Verbal Theories: A Tutorial by Dialogue\n",
    "\n",
    "These are the supplementary materials which will build up towards computer simulations of <span style=\"font-variant: small-caps;\">Selecting Invitees (Version 4, 5 and 6)</span>. We explain how the code relates to the computational level formalizations of the main paper and run several sample simulations exploring the models' behaviour.\n",
    "\n",
    "## Table of contents\n",
    "* [Setup](#Setup)\n",
    " * [Importing libraries](#Importing-libraries)\n",
    " * [Helper functions](#Helper-functions)\n",
    "* [Formalizing selecting invitees variant 4](#Formalizing-selecting-invitees-variant-4)\n",
    " * [Simulations for SI4](#Simulations-for-SI4)\n",
    " * [Data analysis for SI4](#Data-analysis-for-SI4)\n",
    "\n",
    "## Setup\n",
    "We need to import some libraries and define some helper functions.\n",
    "\n",
    "### Importing libraries\n",
    "As is common, we need to load libraries for writing our simulation code. Two main libraries are imported: ```mathlib``` for writing simulation code and ```plotly``` for plotting results. Imports may print a lot of information in red, this is normal. If succesful you will see the following output:\n",
    "\n",
    "```\n",
    "import coursierapi._\n",
    "```\n",
    "\n",
    "```\n",
    "import $ivy.$\n",
    "\n",
    "import $ivy.$ \n",
    "```\n",
    "\n",
    "<div class=\"alert alert-block alert-info\">\n",
    "    <b>Note:</b> If you're using JupyterLab, you have to install jupyterlab-plotly to enable support for rendering Plotly charts. Open up a terminal in JupterLab and run the following command (this may take a while):\n",
    "    \n",
    "```\n",
    "jupyter labextension install jupyterlab-plotly\n",
    "```\n",
    "</div>"
   ]
  },
  {
   "cell_type": "code",
   "execution_count": null,
   "metadata": {},
   "outputs": [],
   "source": [
    "import coursierapi._\n",
    "\n",
    "interp.repositories() ++= Seq(\n",
    "      MavenRepository.of(\"https://jitpack.io\")\n",
    "  )"
   ]
  },
  {
   "cell_type": "code",
   "execution_count": null,
   "metadata": {},
   "outputs": [],
   "source": [
    "import $ivy.`com.github.markblokpoel.mathlib::mathlib:-SNAPSHOT`\n",
    "import $ivy.`org.plotly-scala::plotly-almond:0.8.1`\n",
    "\n",
    "import mathlib.set.SetTheory._\n",
    "import mathlib.probability._\n",
    "import mathlib.probability.Implicits._\n",
    "\n",
    "import plotly._\n",
    "import plotly.element._\n",
    "import plotly.layout._\n",
    "import plotly.Almond._"
   ]
  },
  {
   "cell_type": "markdown",
   "metadata": {},
   "source": [
    "### Helper functions\n",
    "\n",
    "We define a few helper functions, mainly to generate instances for running the simulations.\n",
    "\n",
    "We use a simple case class to represent a person who is identified by a name. We assume no two individuals with the same name can exist. We create a helper object for ```Person``` with a predefined list of names from which we can randomly generate a single person using ```Person.random``` or a group of $k$ persons using ```Person.randomGroup(size)```, where ```size```=$k$."
   ]
  },
  {
   "cell_type": "code",
   "execution_count": null,
   "metadata": {},
   "outputs": [],
   "source": [
    "case class Person(name: String) {\n",
    "  override def toString: String = name\n",
    "}\n",
    "\n",
    "case object Person {\n",
    "    private val names: Set[String] = Set(\"Nettie\",\"Lester\",\"Brian\",\"Cody\",\"Erik\",\"William\",\"Molly\",\"Joey\",\"Thelma\",\"Edgar\",\"Emanuel\",\"Sergio\",\"Herman\",\"Kelley\",\"Wilfred\",\"Guadalupe\",\"Paula\",\"Sheila\",\"Javier\",\"Kelly\",\"Jason\",\"Gilbert\",\"Harriet\",\"Meghan\",\"Kenneth\",\"Holly\",\"Rose\",\"Lela\",\"Brenda\",\"Constance\",\"Vera\",\"Ramiro\",\"Diana\",\"Charlene\",\"Betty\",\"Michelle\",\"Frederick\",\"Elmer\",\"Byron\",\"Randal\",\"Roderick\",\"Clark\",\"Mathew\",\"Sammy\",\"Colleen\",\"Marian\",\"Tyrone\",\"Keith\",\"Tonya\",\"John\",\"Kayla\",\"Johanna\",\"Dwayne\",\"Antonia\",\"Kerry\",\"Fannie\",\"Nichole\",\"Jeanne\",\"Roberto\",\"Vicky\",\"Jesus\",\"Angela\",\"Fredrick\",\"Fernando\",\"Vivian\",\"Natalie\",\"Johnnie\",\"Monica\",\"Angelica\",\"Anna\",\"Carlos\",\"Marion\",\"Henry\",\"Lawrence\",\"Alexis\",\"Garry\",\"Bernard\",\"Jana\",\"Ernestine\",\"Deborah\",\"Willard\",\"Eileen\",\"Erica\",\"Elvira\",\"Myron\",\"Elena\",\"Ervin\",\"Jeannette\",\"Veronica\",\"Abraham\",\"Lamar\",\"Wanda\",\"Lorraine\",\"Doris\",\"Leigh\",\"Devin\",\"Lindsay\",\"Isabel\",\"Marlene\",\"Betsy\")\n",
    "    \n",
    "    def random: Person = Person(names.random.getOrElse(\"Easter Bunny\"))\n",
    "    \n",
    "    // Returns a set of k random persons.\n",
    "    def randomGroup(size: Int): Set[Person] = {\n",
    "        def rg(size: Int, namesLeft: Set[String]): Set[Person] = {\n",
    "            if(size == 0) Set.empty\n",
    "            else {\n",
    "                val newPerson = namesLeft.random\n",
    "                if(newPerson.isEmpty) Set.empty\n",
    "                else rg(size - 1, namesLeft - newPerson.get) + Person(newPerson.get)\n",
    "            }\n",
    "        }\n",
    "        \n",
    "        rg(size, names)\n",
    "    }\n",
    "}"
   ]
  },
  {
   "cell_type": "markdown",
   "metadata": {},
   "source": [
    "A helper function to generate random relationships between pairs of individuals."
   ]
  },
  {
   "cell_type": "code",
   "execution_count": null,
   "metadata": {},
   "outputs": [],
   "source": [
    "object Helpers {\n",
    "    class PairDoesNotExistException extends NoSuchElementException\n",
    "    \n",
    "    /**\n",
    "     * @param ratio The ratio of likes versus dislikes. Value of 0 means all pairs like eachother,\n",
    "     * value of 1 means all pairs dislike eachother.\n",
    "     * @return A function that specifies for each pair in persons if they like eachother or not.\n",
    "     */\n",
    "    def genNonReflexiveLikeFunction(persons: Set[Person], ratio: Double = 0.5): (Person, Person) => Boolean = {\n",
    "        val allPairs = persons.pairs\n",
    "        \n",
    "        // Generate a list of true and false (like and dislike) with the specified ratio.\n",
    "        val likeDislike = List.tabulate(allPairs.size)((i: Int) => {\n",
    "            if(i <= (ratio * allPairs.size).intValue) false\n",
    "            else true\n",
    "        })\n",
    "        \n",
    "        // Randomize the order of the like-dislike list.\n",
    "        val likeDislikeRandomized = scala.util.Random.shuffle(likeDislike)\n",
    "        \n",
    "        // Map each pair to a (now random) like-dislike value\n",
    "        val map = (allPairs zip likeDislikeRandomized).toMap\n",
    "        \n",
    "        // Define a function f that takes two persons and returns a Boolean.\n",
    "        def f(person1: Person, person2: Person): Boolean = {\n",
    "            if(map.contains((person1, person2))) map((person1, person2))\n",
    "            else throw new PairDoesNotExistException()\n",
    "        }\n",
    "        \n",
    "        // Return the function\n",
    "        f\n",
    "    }\n",
    "}"
   ]
  },
  {
   "cell_type": "markdown",
   "metadata": {},
   "source": [
    "## Formalizing selecting invitees variant 4\n",
    "\n",
    "We recap the formalism: \n",
    "\n",
    "<span style=\"font-variant: small-caps;\">Selecting Invitees (Version 4)</span>\n",
    "\n",
    "*Input:* A set $P$, subsets $L\\subseteq P$ and $D\\subseteq P$ with $L\\cap D=\\varnothing$ and $L\\cup D=P$, a function $like:P\\times P\\rightarrow \\{true,false\\}$, and a threshold value $k$.\n",
    "\n",
    "*Output:* A subset $G\\subseteq P$ such that $|G\\cap D|\\leq k$ and $|X|+|G|$ is maximized (where $X=\\left\\{p_i,p_j\\in G ~\\middle|~like(p_i,p_j)=true \\wedge i\\neq j\\right\\}$).\n",
    "\n",
    "Since the formalism is out of context, let's explain what each variable represents. We will also use more verbose names in our simulation code for clarity. Note that some variables used in the output do not have corresponding labels in the code. These will be defined implicitly.\n",
    "\n",
    "| Math | Scala | Description |\n",
    "| --- | --- | --- |\n",
    "| $P$ | ```persons``` | Set of persons from which to select invitees. |\n",
    "| $L$ | ```personsLiked``` | Subset of persons that is liked. |\n",
    "| $D$ | ```personsDisliked``` | Subset of persons that is disliked. |\n",
    "| $like$ | ```like``` | Function that captures if two persons like each other or not. |\n",
    "| $k$ | ```k``` | Value that states how many of the invited persons at most can be disliked. |\n",
    "| $G$ | n.a. | Set of invited persons. |\n",
    "| $X$ | n.a. | Set of all pairs of persons that like each other. |"
   ]
  },
  {
   "cell_type": "code",
   "execution_count": null,
   "metadata": {},
   "outputs": [],
   "source": [
    "def selectingInviteesV4(persons: Set[Person],\n",
    "                        personsLiked: Set[Person],\n",
    "                        personsDisliked: Set[Person],\n",
    "                        like: (Person, Person) => Boolean,\n",
    "                        k: Int): Set[Person] = {\n",
    "    // Specify requirements. Selecting Invitees V4 is undefined if requirements are not met.\n",
    "    requirement(personsLiked subsetOf persons,\n",
    "                \"L must be a subset of P\")\n",
    "    requirement(personsDisliked subsetOf persons,\n",
    "                \"D must be a subset of P\")\n",
    "    requirement((personsLiked intersect personsDisliked).isEmpty,\n",
    "                \"intersection between L and D must be emtpy\")\n",
    "    requirement((personsLiked union personsDisliked) == persons,\n",
    "                \"union of L and D must equal P\")\n",
    "    \n",
    "    // Specify what makes a valid (sub)set of invitees:\n",
    "    def atMostKDislikes(invitees: Set[Person]): Boolean = {\n",
    "        // |G /\\ D| <= k\n",
    "        (invitees /\\ personsDisliked).size <= k\n",
    "    }\n",
    "    \n",
    "    // Specify the optimality condition:\n",
    "    def xg(invitees: Set[Person]): Int = {\n",
    "        // |X|\n",
    "        val x = invitees.uniquePairs // From all pairs of invitees,\n",
    "                .build(like.tupled)  // select all pairs that like each other,\n",
    "                .size                // and count them.\n",
    "        // |G|\n",
    "        val g = invitees.size        // Count the number of total invitees.\n",
    "        \n",
    "        x + g\n",
    "    }\n",
    "    \n",
    "    val invitees = powerset(persons)  // From all possible subsets of persons,\n",
    "        .build(atMostKDislikes)       // select subsets that contain at most k disliked persons,\n",
    "        .argMax(xg)                   // then select the subsets that maximize the optimality condition.\n",
    "    \n",
    "    // If more than one solution exists, return one at random. Always 1 solution must exist,\n",
    "    // because the empty set is a valid solution. Hence, we can assume random does not\n",
    "    // return None and 'get' the value.\n",
    "    invitees.random.get \n",
    "}"
   ]
  },
  {
   "cell_type": "markdown",
   "metadata": {},
   "source": [
    "### Simulations for SI4\n",
    "Now that we have written simulation code, we can run some test simulations. To do so, we first create a group of random persons:"
   ]
  },
  {
   "cell_type": "code",
   "execution_count": null,
   "metadata": {},
   "outputs": [],
   "source": [
    "val group = Person.randomGroup(10)"
   ]
  },
  {
   "cell_type": "markdown",
   "metadata": {},
   "source": [
    "We also need to specify which of these persons are liked $L$ and disliked $D$ by the host. We do this by splitting the group randomly:"
   ]
  },
  {
   "cell_type": "code",
   "execution_count": null,
   "metadata": {},
   "outputs": [],
   "source": [
    "val (personsLiked, personsDisliked) = group.splitAt(scala.util.Random.nextInt(group.size))"
   ]
  },
  {
   "cell_type": "markdown",
   "metadata": {},
   "source": [
    "Finally, we need to specify the like-dislike relationships between all pairs of persons. We can use the helper function to do this. Here, we use ```Helpers.genNonReflexiveLikeFunction``` which incorporate the assumption that if $A$ likes $B$ then $B$ can dislike $A$, i.e., $like$ is not reflexive."
   ]
  },
  {
   "cell_type": "code",
   "execution_count": null,
   "metadata": {},
   "outputs": [],
   "source": [
    "def like = Helpers.genNonReflexiveLikeFunction(group, ratio = 0.5)"
   ]
  },
  {
   "cell_type": "markdown",
   "metadata": {},
   "source": [
    "We can now simulate <span style=\"font-variant: small-caps;\">Selecting Invitees (Version 4)</span> by running the following function for any value of $k$. If you regenerate the group and their relations, you may get different results. You may even get different results for the same input if multiple sets of invitees are equally (maximally) good: "
   ]
  },
  {
   "cell_type": "code",
   "execution_count": null,
   "metadata": {},
   "outputs": [],
   "source": [
    "selectingInviteesV4(group, personsLiked, personsDisliked, like, k = 6)"
   ]
  },
  {
   "cell_type": "markdown",
   "metadata": {},
   "source": [
    "If we vary parameter $k$, we can plot e.g., group size relative to $k$. To collect model behaviour without introducing confounds, we should also sample multiple randomized groups with different relationships. Let's first create our virtual participants. We can generate as many samples as we like:"
   ]
  },
  {
   "cell_type": "code",
   "execution_count": null,
   "metadata": {},
   "outputs": [],
   "source": [
    "val sampleSize = 50\n",
    "val groupSize = 10\n",
    "val ratio = 0.5 // We use a fixed ratio between like and dislike, but feel free to change it.\n",
    "\n",
    "// Generate sampleSize groups of size groupSize\n",
    "val groups = List.tabulate(sampleSize)(_ => Person.randomGroup(groupSize))"
   ]
  },
  {
   "cell_type": "markdown",
   "metadata": {},
   "source": [
    "The code below runs the simulation for each ```group``` in ```groups``` and for all possible values of ```k```. The loop yields (returns) the data in a simple case class structure:"
   ]
  },
  {
   "cell_type": "code",
   "execution_count": null,
   "metadata": {},
   "outputs": [],
   "source": [
    "case class SI4Data(group: Set[Person],\n",
    "                   personsLiked: Set[Person],\n",
    "                   personsDisliked: Set[Person],\n",
    "                   like: (Person, Person) => Boolean,\n",
    "                   k: Int,\n",
    "                   invitees: Set[Person])\n",
    "\n",
    "val data = for(group <- groups; k <- 0 to groupSize) yield {\n",
    "    // Split the group at random for the host to like or dislike\n",
    "    val (personsLiked, personsDisliked) = group.splitAt(scala.util.Random.nextInt(group.size))\n",
    "    def like = Helpers.genNonReflexiveLikeFunction(group, ratio)\n",
    "    // Run the simulation for this group and this like relationship\n",
    "    val invitees = selectingInviteesV4(group, personsLiked, personsDisliked, like, k)\n",
    "    // Return the data\n",
    "    SI4Data(group, personsLiked, personsDisliked, like, k, invitees)\n",
    "}"
   ]
  },
  {
   "cell_type": "markdown",
   "metadata": {},
   "source": [
    "### Data analysis for SI4\n",
    "Now that we have our data, we can visualize it."
   ]
  },
  {
   "cell_type": "code",
   "execution_count": null,
   "metadata": {
    "jupyter": {
     "outputs_hidden": true
    }
   },
   "outputs": [],
   "source": [
    "val kData = data.map(_.k) // Extract the k values for each data point.\n",
    "val nrInviteesData = data.map(_.invitees.size) // Extract the invitees for each data point and compute group size.\n",
    "val likesNormalizedData = data.map(datapoint => {\n",
    "    val pairs = datapoint.invitees.pairs\n",
    "    val likeDislikes = datapoint.invitees.pairs.toList.map(datapoint.like.tupled)\n",
    "    likeDislikes.count(_ == true) / pairs.size.doubleValue\n",
    "})\n",
    "val ldRatioData = data.map(datapoint => {\n",
    "    val pairs = datapoint.invitees.pairs\n",
    "    val likeDislikes = datapoint.invitees.pairs.toList.map(datapoint.like.tupled)\n",
    "    val likes = likeDislikes.count(_ == true)\n",
    "    val dislikes = likeDislikes.count(_ == false)\n",
    "    likes.doubleValue / dislikes.doubleValue\n",
    "})"
   ]
  },
  {
   "cell_type": "code",
   "execution_count": null,
   "metadata": {},
   "outputs": [],
   "source": [
    "Histogram()\n",
    ".withX(ldRatioData)\n",
    ".withY(nrInviteesData)\n",
    ".withHistfunc(HistFunc.Average)\n",
    ".plot(Layout()\n",
    "      .withTitle(\"Number of invitees (collapsed over k)\")\n",
    "      .withXaxis(Axis()\n",
    "                 .withTitle(\"#like / #dislike\")\n",
    "                 .withShowgrid(true)\n",
    "      )\n",
    "      .withYaxis(Axis()\n",
    "                 .withTitle(\"Number of invitees\")\n",
    "                 .withShowgrid(true)\n",
    "      )\n",
    "      .withBargap(.1)\n",
    ")"
   ]
  },
  {
   "cell_type": "code",
   "execution_count": null,
   "metadata": {},
   "outputs": [],
   "source": [
    "Box()\n",
    ".withX(kData)\n",
    ".withY(ldRatioData)\n",
    ".withJitter(1.0)\n",
    ".plot(Layout()\n",
    "     .withTitle(\"like-dislike ratio by k\")\n",
    "     .withXaxis(Axis()\n",
    "                .withTitle(\"k\")\n",
    "                .withShowgrid(true)\n",
    "     )\n",
    "     .withYaxis(Axis()\n",
    "                .withTitle(\"like / dislike\")\n",
    "                .withShowgrid(true)\n",
    "     )\n",
    ")"
   ]
  },
  {
   "cell_type": "code",
   "execution_count": null,
   "metadata": {},
   "outputs": [],
   "source": [
    "Histogram()\n",
    ".withX(ldRatioData)\n",
    ".withY(likesNormalizedData)\n",
    ".withHistfunc(HistFunc.Average)\n",
    ".plot(Layout()\n",
    "      .withTitle(\"Party success (collapsed over k)\")\n",
    "      .withXaxis(Axis()\n",
    "                 .withTitle(\"#like / #dislike\")\n",
    "                 .withShowgrid(true)\n",
    "      )\n",
    "      .withYaxis(Axis()\n",
    "                 .withTitle(\"Average likes\")\n",
    "                 .withShowgrid(true)\n",
    "      )\n",
    "      .withBargap(.1)\n",
    ")"
   ]
  },
  {
   "cell_type": "code",
   "execution_count": null,
   "metadata": {},
   "outputs": [],
   "source": []
  }
 ],
 "metadata": {
  "kernelspec": {
   "display_name": "Scala (2.13)",
   "language": "scala",
   "name": "scala213"
  },
  "language_info": {
   "codemirror_mode": "text/x-scala",
   "file_extension": ".sc",
   "mimetype": "text/x-scala",
   "name": "scala",
   "nbconvert_exporter": "script",
   "version": "2.13.3"
  }
 },
 "nbformat": 4,
 "nbformat_minor": 4
}
